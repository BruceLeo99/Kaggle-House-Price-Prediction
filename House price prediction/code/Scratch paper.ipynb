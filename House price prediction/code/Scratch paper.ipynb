{
 "cells": [
  {
   "cell_type": "markdown",
   "id": "0c5adf99-5e39-4d98-855f-1bc97bc18c15",
   "metadata": {},
   "source": [
    "# Scratch paper\n",
    "This notebook is used to cross validate the performance of models with different (hyper)parameters."
   ]
  },
  {
   "cell_type": "code",
   "execution_count": 1,
   "id": "12c74b14-d86f-44a9-a2a5-97c7b303c055",
   "metadata": {},
   "outputs": [
    {
     "name": "stdout",
     "output_type": "stream",
     "text": [
      "Loading functions and raw data\n",
      "Processing training data\n",
      "[IterativeImputer] Completing matrix with shape (1460, 81)\n",
      "[IterativeImputer] Change: 196.2882169809777, scaled tolerance: 755.0 \n",
      "[IterativeImputer] Early stopping criterion reached.\n"
     ]
    },
    {
     "name": "stderr",
     "output_type": "stream",
     "text": [
      "C:\\Users\\yixin\\AppData\\Roaming\\Python\\Python310\\site-packages\\pandas\\core\\arraylike.py:396: RuntimeWarning: invalid value encountered in log\n",
      "  result = getattr(ufunc, method)(*inputs, **kwargs)\n"
     ]
    },
    {
     "name": "stdout",
     "output_type": "stream",
     "text": [
      "Processing test data\n",
      "[IterativeImputer] Completing matrix with shape (1459, 80)\n",
      "[IterativeImputer] Change: 145.2478497782766, scaled tolerance: 56.6 \n",
      "[IterativeImputer] Change: 57.84008982806445, scaled tolerance: 56.6 \n",
      "[IterativeImputer] Change: 129.91429367227403, scaled tolerance: 56.6 \n",
      "[IterativeImputer] Change: 340.45182596685476, scaled tolerance: 56.6 \n",
      "[IterativeImputer] Change: 74.77020218325113, scaled tolerance: 56.6 \n",
      "[IterativeImputer] Change: 577.4032101823057, scaled tolerance: 56.6 \n",
      "[IterativeImputer] Change: 542.8074830575572, scaled tolerance: 56.6 \n",
      "[IterativeImputer] Change: 443.48451415863667, scaled tolerance: 56.6 \n",
      "[IterativeImputer] Change: 350.4516530903338, scaled tolerance: 56.6 \n",
      "[IterativeImputer] Change: 527.7037732740614, scaled tolerance: 56.6 \n",
      "[IterativeImputer] Change: 279.46808534101984, scaled tolerance: 56.6 \n",
      "[IterativeImputer] Change: 224.52757010957316, scaled tolerance: 56.6 \n",
      "[IterativeImputer] Change: 296.69207340484184, scaled tolerance: 56.6 \n",
      "[IterativeImputer] Change: 320.8847592161086, scaled tolerance: 56.6 \n",
      "[IterativeImputer] Change: 52.29155845054012, scaled tolerance: 56.6 \n",
      "[IterativeImputer] Early stopping criterion reached.\n",
      "Data Loading and preprocessing complete!\n"
     ]
    },
    {
     "name": "stderr",
     "output_type": "stream",
     "text": [
      "C:\\Users\\yixin\\AppData\\Roaming\\Python\\Python310\\site-packages\\pandas\\core\\arraylike.py:396: RuntimeWarning: invalid value encountered in log\n",
      "  result = getattr(ufunc, method)(*inputs, **kwargs)\n"
     ]
    }
   ],
   "source": [
    "import utils"
   ]
  },
  {
   "cell_type": "code",
   "execution_count": 2,
   "id": "aba69e9f-03f3-4240-82be-a8dd0c61070c",
   "metadata": {},
   "outputs": [],
   "source": [
    "from utils import train_csv, train_log_transformed, train_minmax_transformed, train_zscore_transformed"
   ]
  },
  {
   "cell_type": "code",
   "execution_count": null,
   "id": "328dc336-c5d6-481b-a1d6-515f862f5254",
   "metadata": {},
   "outputs": [],
   "source": []
  }
 ],
 "metadata": {
  "kernelspec": {
   "display_name": "Python 3 (ipykernel)",
   "language": "python",
   "name": "python3"
  },
  "language_info": {
   "codemirror_mode": {
    "name": "ipython",
    "version": 3
   },
   "file_extension": ".py",
   "mimetype": "text/x-python",
   "name": "python",
   "nbconvert_exporter": "python",
   "pygments_lexer": "ipython3",
   "version": "3.10.6"
  }
 },
 "nbformat": 4,
 "nbformat_minor": 5
}
